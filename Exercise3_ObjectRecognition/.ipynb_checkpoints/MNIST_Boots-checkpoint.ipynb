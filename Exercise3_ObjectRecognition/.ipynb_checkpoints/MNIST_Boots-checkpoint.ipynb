{
 "cells": [
  {
   "cell_type": "markdown",
   "id": "c002c1f5",
   "metadata": {},
   "source": [
    "Based on the TF tutorial here: https://www.youtube.com/watch?v=bemDFpNooA8"
   ]
  },
  {
   "cell_type": "code",
   "execution_count": 1,
   "id": "2f1361b2",
   "metadata": {},
   "outputs": [],
   "source": [
    "import tensorflow as tf\n",
    "from tensorflow import keras\n",
    "import numpy as np"
   ]
  },
  {
   "cell_type": "code",
   "execution_count": 2,
   "id": "58e00105",
   "metadata": {},
   "outputs": [
    {
     "name": "stdout",
     "output_type": "stream",
     "text": [
      "Downloading data from https://storage.googleapis.com/tensorflow/tf-keras-datasets/train-labels-idx1-ubyte.gz\n",
      "32768/29515 [=================================] - 0s 1us/step\n",
      "40960/29515 [=========================================] - 0s 0us/step\n",
      "Downloading data from https://storage.googleapis.com/tensorflow/tf-keras-datasets/train-images-idx3-ubyte.gz\n",
      "26427392/26421880 [==============================] - 9s 0us/step\n",
      "26435584/26421880 [==============================] - 9s 0us/step\n",
      "Downloading data from https://storage.googleapis.com/tensorflow/tf-keras-datasets/t10k-labels-idx1-ubyte.gz\n",
      "16384/5148 [===============================================================================================] - 0s 0us/step\n",
      "Downloading data from https://storage.googleapis.com/tensorflow/tf-keras-datasets/t10k-images-idx3-ubyte.gz\n",
      "4423680/4422102 [==============================] - 2s 0us/step\n",
      "4431872/4422102 [==============================] - 2s 0us/step\n"
     ]
    }
   ],
   "source": [
    "fash_mnist = keras.datasets.fashion_mnist\n",
    "(train_images, train_labels), (test_images, test_labels) = fash_mnist.load_data()"
   ]
  },
  {
   "cell_type": "code",
   "execution_count": 6,
   "id": "c0c112d5",
   "metadata": {},
   "outputs": [
    {
     "data": {
      "text/plain": [
       "((60000, 28, 28), (10000, 28, 28))"
      ]
     },
     "execution_count": 6,
     "metadata": {},
     "output_type": "execute_result"
    }
   ],
   "source": [
    "train_images.shape, test_images.shape"
   ]
  },
  {
   "cell_type": "code",
   "execution_count": 20,
   "id": "5516a106",
   "metadata": {},
   "outputs": [
    {
     "data": {
      "text/plain": [
       "array([0, 1, 2, 3, 4, 5, 6, 7, 8, 9], dtype=uint8)"
      ]
     },
     "execution_count": 20,
     "metadata": {},
     "output_type": "execute_result"
    }
   ],
   "source": [
    "np.unique(train_labels)"
   ]
  },
  {
   "cell_type": "code",
   "execution_count": 15,
   "id": "c580ff88",
   "metadata": {},
   "outputs": [],
   "source": [
    "train_images = train_images / 255.0\n",
    "test_images = test_images / 255.0"
   ]
  },
  {
   "cell_type": "code",
   "execution_count": 16,
   "id": "a9668996",
   "metadata": {},
   "outputs": [],
   "source": [
    "model = keras.Sequential([\n",
    "    keras.layers.Flatten(input_shape=(28,28)),\n",
    "    keras.layers.Dense(128, activation=tf.nn.relu),\n",
    "    keras.layers.Dense(10, activation=tf.nn.softmax)\n",
    "])"
   ]
  },
  {
   "cell_type": "code",
   "execution_count": 19,
   "id": "a84c8b2d",
   "metadata": {},
   "outputs": [
    {
     "name": "stdout",
     "output_type": "stream",
     "text": [
      "Epoch 1/15\n",
      "1875/1875 [==============================] - 2s 1ms/step - loss: 0.2811 - accuracy: 0.8969\n",
      "Epoch 2/15\n",
      "1875/1875 [==============================] - 2s 1ms/step - loss: 0.2692 - accuracy: 0.8995\n",
      "Epoch 3/15\n",
      "1875/1875 [==============================] - 2s 1ms/step - loss: 0.2592 - accuracy: 0.9037\n",
      "Epoch 4/15\n",
      "1875/1875 [==============================] - 2s 1ms/step - loss: 0.2493 - accuracy: 0.9078\n",
      "Epoch 5/15\n",
      "1875/1875 [==============================] - 2s 1ms/step - loss: 0.2384 - accuracy: 0.9117\n",
      "Epoch 6/15\n",
      "1875/1875 [==============================] - 2s 1ms/step - loss: 0.2320 - accuracy: 0.9139\n",
      "Epoch 7/15\n",
      "1875/1875 [==============================] - 2s 1ms/step - loss: 0.2237 - accuracy: 0.9172\n",
      "Epoch 8/15\n",
      "1875/1875 [==============================] - 2s 1ms/step - loss: 0.2179 - accuracy: 0.9184\n",
      "Epoch 9/15\n",
      "1875/1875 [==============================] - 2s 1ms/step - loss: 0.2110 - accuracy: 0.9215\n",
      "Epoch 10/15\n",
      "1875/1875 [==============================] - 2s 1ms/step - loss: 0.2074 - accuracy: 0.9233\n",
      "Epoch 11/15\n",
      "1875/1875 [==============================] - 2s 1ms/step - loss: 0.1994 - accuracy: 0.9260\n",
      "Epoch 12/15\n",
      "1875/1875 [==============================] - 2s 1ms/step - loss: 0.1952 - accuracy: 0.9276\n",
      "Epoch 13/15\n",
      "1875/1875 [==============================] - 2s 1ms/step - loss: 0.1882 - accuracy: 0.9298\n",
      "Epoch 14/15\n",
      "1875/1875 [==============================] - 2s 1ms/step - loss: 0.1854 - accuracy: 0.9312\n",
      "Epoch 15/15\n",
      "1875/1875 [==============================] - 2s 1ms/step - loss: 0.1803 - accuracy: 0.9329\n"
     ]
    },
    {
     "data": {
      "text/plain": [
       "<keras.callbacks.History at 0x134c19eb0>"
      ]
     },
     "execution_count": 19,
     "metadata": {},
     "output_type": "execute_result"
    }
   ],
   "source": [
    "model.compile(optimizer=tf.keras.optimizers.Adam(),\n",
    "             loss = 'sparse_categorical_crossentropy',\n",
    "             metrics=['accuracy'])\n",
    "model.fit(train_images,train_labels,epochs=15)"
   ]
  },
  {
   "cell_type": "code",
   "execution_count": 18,
   "id": "7d9c3c3a",
   "metadata": {},
   "outputs": [
    {
     "name": "stdout",
     "output_type": "stream",
     "text": [
      "313/313 [==============================] - 0s 805us/step - loss: 0.3535 - accuracy: 0.8734\n"
     ]
    },
    {
     "data": {
      "text/plain": [
       "[0.35351306200027466, 0.8733999729156494]"
      ]
     },
     "execution_count": 18,
     "metadata": {},
     "output_type": "execute_result"
    }
   ],
   "source": [
    "model.evaluate(test_images, test_labels)"
   ]
  },
  {
   "cell_type": "code",
   "execution_count": null,
   "id": "c43de268",
   "metadata": {},
   "outputs": [],
   "source": []
  }
 ],
 "metadata": {
  "kernelspec": {
   "display_name": "Python 3 (ipykernel)",
   "language": "python",
   "name": "python3"
  },
  "language_info": {
   "codemirror_mode": {
    "name": "ipython",
    "version": 3
   },
   "file_extension": ".py",
   "mimetype": "text/x-python",
   "name": "python",
   "nbconvert_exporter": "python",
   "pygments_lexer": "ipython3",
   "version": "3.8.10"
  }
 },
 "nbformat": 4,
 "nbformat_minor": 5
}
